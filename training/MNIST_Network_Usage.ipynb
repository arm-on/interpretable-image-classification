{
  "nbformat": 4,
  "nbformat_minor": 0,
  "metadata": {
    "colab": {
      "name": "P1 - MNIST - Network Usage.ipynb",
      "provenance": [],
      "collapsed_sections": []
    },
    "kernelspec": {
      "name": "python3",
      "display_name": "Python 3"
    },
    "language_info": {
      "name": "python"
    }
  },
  "cells": [
    {
      "cell_type": "markdown",
      "metadata": {
        "id": "E6793xZQCf-f"
      },
      "source": [
        "This notebook shows how to load the neural network trained on the MNIST dataset"
      ]
    },
    {
      "cell_type": "markdown",
      "metadata": {
        "id": "rIFO7VVPsarJ"
      },
      "source": [
        "Google Drive Authentication\n",
        "---"
      ]
    },
    {
      "cell_type": "code",
      "metadata": {
        "colab": {
          "base_uri": "https://localhost:8080/"
        },
        "id": "L3JebPeHrPwF",
        "outputId": "17b99477-943f-4667-8407-5f9369e082e5"
      },
      "source": [
        "from google.colab import drive\n",
        "drive.mount('/gdrive', force_remount=True)\n",
        "%cd /gdrive/My Drive/IIC/"
      ],
      "execution_count": null,
      "outputs": [
        {
          "output_type": "stream",
          "text": [
            "Mounted at /gdrive\n",
            "/gdrive/My Drive/DrRabiee-Project\n"
          ],
          "name": "stdout"
        }
      ]
    },
    {
      "cell_type": "markdown",
      "metadata": {
        "id": "I_Wnv6dofH5Z"
      },
      "source": [
        "Importing the Necessary Libraries\n",
        "---"
      ]
    },
    {
      "cell_type": "code",
      "metadata": {
        "id": "a8tpZad4fJq7"
      },
      "source": [
        "from tensorflow.keras.preprocessing import image\n",
        "import matplotlib.pyplot as plt\n",
        "from tensorflow.keras.models import load_model\n",
        "import numpy as np\n",
        "from PIL import Image\n",
        "import cv2\n",
        "from skimage.color import gray2rgb"
      ],
      "execution_count": null,
      "outputs": []
    },
    {
      "cell_type": "markdown",
      "metadata": {
        "id": "8eXltBIVCJUZ"
      },
      "source": [
        "Loading the Model\n",
        "---"
      ]
    },
    {
      "cell_type": "code",
      "metadata": {
        "id": "YEp-8E7rBLa0"
      },
      "source": [
        "model = load_model('models/mnist.h5')"
      ],
      "execution_count": null,
      "outputs": []
    },
    {
      "cell_type": "code",
      "metadata": {
        "colab": {
          "base_uri": "https://localhost:8080/"
        },
        "id": "M-irblEqB5RY",
        "outputId": "88f832c0-4af5-4e68-a37c-19c964b52962"
      },
      "source": [
        "model.summary()"
      ],
      "execution_count": null,
      "outputs": [
        {
          "output_type": "stream",
          "text": [
            "Model: \"sequential\"\n",
            "_________________________________________________________________\n",
            "Layer (type)                 Output Shape              Param #   \n",
            "=================================================================\n",
            "conv2d (Conv2D)              (None, 26, 26, 32)        896       \n",
            "_________________________________________________________________\n",
            "max_pooling2d (MaxPooling2D) (None, 13, 13, 32)        0         \n",
            "_________________________________________________________________\n",
            "conv2d_1 (Conv2D)            (None, 11, 11, 64)        18496     \n",
            "_________________________________________________________________\n",
            "max_pooling2d_1 (MaxPooling2 (None, 5, 5, 64)          0         \n",
            "_________________________________________________________________\n",
            "flatten (Flatten)            (None, 1600)              0         \n",
            "_________________________________________________________________\n",
            "dropout (Dropout)            (None, 1600)              0         \n",
            "_________________________________________________________________\n",
            "dense (Dense)                (None, 10)                16010     \n",
            "=================================================================\n",
            "Total params: 35,402\n",
            "Trainable params: 35,402\n",
            "Non-trainable params: 0\n",
            "_________________________________________________________________\n"
          ],
          "name": "stdout"
        }
      ]
    },
    {
      "cell_type": "markdown",
      "metadata": {
        "id": "gRWzLv_feaa8"
      },
      "source": [
        "Classify Custom Images\n",
        "---"
      ]
    },
    {
      "cell_type": "code",
      "metadata": {
        "id": "WOqjQrbtpGv6"
      },
      "source": [
        "def prepare_img(filepath):\n",
        "    img_name = filepath.split('/')[-1]\n",
        "    im = np.array(Image.open(filepath).convert('L'))\n",
        "    im = cv2.resize(im, dsize=(28, 28), interpolation=cv2.INTER_CUBIC)\n",
        "    im = gray2rgb(im.reshape(28,28))\n",
        "    return im"
      ],
      "execution_count": null,
      "outputs": []
    },
    {
      "cell_type": "code",
      "metadata": {
        "id": "KfLfp_uMpU9z"
      },
      "source": [
        "np_img = prepare_img('7.png')"
      ],
      "execution_count": null,
      "outputs": []
    },
    {
      "cell_type": "code",
      "metadata": {
        "colab": {
          "base_uri": "https://localhost:8080/"
        },
        "id": "uddPJphop3Jp",
        "outputId": "40813172-18d3-4bb1-cb2f-96696f59739a"
      },
      "source": [
        "np_img.shape"
      ],
      "execution_count": null,
      "outputs": [
        {
          "output_type": "execute_result",
          "data": {
            "text/plain": [
              "(28, 28, 3)"
            ]
          },
          "metadata": {
            "tags": []
          },
          "execution_count": 37
        }
      ]
    },
    {
      "cell_type": "code",
      "metadata": {
        "id": "TXztI5A1fStt"
      },
      "source": [
        "def classify_img(model, img):\n",
        "    img = img.reshape((1,img.shape[0],img.shape[1],3))\n",
        "    img = img.astype(\"float32\") / 255\n",
        "    pred = model(img)[0]\n",
        "    class_idx = np.argmax(pred)\n",
        "    return class_idx"
      ],
      "execution_count": null,
      "outputs": []
    },
    {
      "cell_type": "code",
      "metadata": {
        "colab": {
          "base_uri": "https://localhost:8080/"
        },
        "id": "jgBmYF91lgjg",
        "outputId": "d4f01de8-537f-4f21-df82-31f86bfe9705"
      },
      "source": [
        "classify_img(model, np_img)"
      ],
      "execution_count": null,
      "outputs": [
        {
          "output_type": "execute_result",
          "data": {
            "text/plain": [
              "7"
            ]
          },
          "metadata": {
            "tags": []
          },
          "execution_count": 43
        }
      ]
    }
  ]
}