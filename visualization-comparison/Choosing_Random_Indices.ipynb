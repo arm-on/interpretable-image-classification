{
  "nbformat": 4,
  "nbformat_minor": 0,
  "metadata": {
    "colab": {
      "name": "Choosing Random Indices.ipynb",
      "provenance": [],
      "collapsed_sections": []
    },
    "kernelspec": {
      "name": "python3",
      "display_name": "Python 3"
    },
    "language_info": {
      "name": "python"
    }
  },
  "cells": [
    {
      "cell_type": "code",
      "metadata": {
        "id": "H6NMtph7mrkS"
      },
      "source": [
        "import random"
      ],
      "execution_count": null,
      "outputs": []
    },
    {
      "cell_type": "markdown",
      "metadata": {
        "id": "mhTTqkVSrLWD"
      },
      "source": [
        "Loading the Data"
      ]
    },
    {
      "cell_type": "code",
      "metadata": {
        "colab": {
          "base_uri": "https://localhost:8080/"
        },
        "id": "BsMMGD8hrOWF",
        "outputId": "0843611c-8620-4f84-8696-f0bdb5609982"
      },
      "source": [
        "from tensorflow import keras\n",
        "(x_train, y_train), (x_test, y_test) = keras.datasets.mnist.load_data()"
      ],
      "execution_count": null,
      "outputs": [
        {
          "output_type": "stream",
          "text": [
            "Downloading data from https://storage.googleapis.com/tensorflow/tf-keras-datasets/mnist.npz\n",
            "11493376/11490434 [==============================] - 0s 0us/step\n"
          ],
          "name": "stdout"
        }
      ]
    },
    {
      "cell_type": "code",
      "metadata": {
        "id": "r-F07eh9roIu"
      },
      "source": [
        "from collections import defaultdict\n",
        "class2set = defaultdict(set)\n",
        "for idx, item in enumerate(y_test):\n",
        "    class2set[item].add(idx)"
      ],
      "execution_count": null,
      "outputs": []
    },
    {
      "cell_type": "markdown",
      "metadata": {
        "id": "tNQThFqfm4zA"
      },
      "source": [
        "Random Choices for MNIST"
      ]
    },
    {
      "cell_type": "code",
      "metadata": {
        "id": "u2vRB2-Jm0Cq"
      },
      "source": [
        "class2chosen = defaultdict(list)\n",
        "for k in class2set.keys():\n",
        "    curr_chosen_samples = random.sample(class2set[k], 3)\n",
        "    class2chosen[k].extend(curr_chosen_samples)"
      ],
      "execution_count": null,
      "outputs": []
    },
    {
      "cell_type": "code",
      "metadata": {
        "colab": {
          "base_uri": "https://localhost:8080/"
        },
        "id": "neBB-TDRs2QC",
        "outputId": "f58289d0-5e34-4ecb-c713-e4001a485fd4"
      },
      "source": [
        "class2chosen"
      ],
      "execution_count": null,
      "outputs": [
        {
          "output_type": "execute_result",
          "data": {
            "text/plain": [
              "defaultdict(list,\n",
              "            {0: [6127, 5526, 8152],\n",
              "             1: [7911, 9594, 5327],\n",
              "             2: [9686, 5615, 6234],\n",
              "             3: [3476, 8570, 6103],\n",
              "             4: [6205, 2709, 1680],\n",
              "             5: [2556, 1967, 3552],\n",
              "             6: [1250, 1212, 3846],\n",
              "             7: [5040, 328, 5563],\n",
              "             8: [5129, 6595, 5976],\n",
              "             9: [7651, 1640, 9562]})"
            ]
          },
          "metadata": {
            "tags": []
          },
          "execution_count": 17
        }
      ]
    },
    {
      "cell_type": "markdown",
      "metadata": {
        "id": "JfGUt7Yks-mm"
      },
      "source": [
        "Loading CIFAR10 Data"
      ]
    },
    {
      "cell_type": "code",
      "metadata": {
        "id": "VSt73ri_s_4u"
      },
      "source": [
        "(x_train, y_train), (x_test, y_test) = keras.datasets.cifar10.load_data()"
      ],
      "execution_count": null,
      "outputs": []
    },
    {
      "cell_type": "markdown",
      "metadata": {
        "id": "SpztfOoPm66d"
      },
      "source": [
        "Random Choices for CIFAR10"
      ]
    },
    {
      "cell_type": "code",
      "metadata": {
        "id": "SnQSdE_Cm3JQ"
      },
      "source": [
        "from collections import defaultdict\n",
        "class2set = defaultdict(set)\n",
        "for idx, item in enumerate(y_test):\n",
        "    class2set[int(item)].add(idx)"
      ],
      "execution_count": null,
      "outputs": []
    },
    {
      "cell_type": "code",
      "metadata": {
        "id": "RlxxHNuFtRof"
      },
      "source": [
        "class2chosen = defaultdict(list)\n",
        "for k in class2set.keys():\n",
        "    curr_chosen_samples = random.sample(class2set[k], 3)\n",
        "    class2chosen[k].extend(curr_chosen_samples)"
      ],
      "execution_count": null,
      "outputs": []
    },
    {
      "cell_type": "code",
      "metadata": {
        "colab": {
          "base_uri": "https://localhost:8080/"
        },
        "id": "z88T1-IithIt",
        "outputId": "6202341b-ba26-4757-8bb8-a267850f9522"
      },
      "source": [
        "class2chosen"
      ],
      "execution_count": null,
      "outputs": [
        {
          "output_type": "execute_result",
          "data": {
            "text/plain": [
              "defaultdict(list,\n",
              "            {0: [4126, 7436, 4792],\n",
              "             1: [3341, 8222, 3460],\n",
              "             2: [3934, 832, 3468],\n",
              "             3: [6976, 3035, 5588],\n",
              "             4: [8092, 3545, 2353],\n",
              "             5: [1698, 8115, 8692],\n",
              "             6: [9216, 9571, 8314],\n",
              "             7: [9631, 6358, 2365],\n",
              "             8: [4459, 8725, 2245],\n",
              "             9: [1702, 4284, 5054]})"
            ]
          },
          "metadata": {
            "tags": []
          },
          "execution_count": 26
        }
      ]
    }
  ]
}